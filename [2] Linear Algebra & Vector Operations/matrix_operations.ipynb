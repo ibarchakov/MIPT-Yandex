{
 "cells": [
  {
   "cell_type": "code",
   "execution_count": 2,
   "metadata": {},
   "outputs": [],
   "source": [
    "import numpy as np"
   ]
  },
  {
   "cell_type": "code",
   "execution_count": 3,
   "metadata": {},
   "outputs": [
    {
     "name": "stdout",
     "output_type": "stream",
     "text": [
      "The A matrix:\n",
      "[[1 3 5]\n",
      " [2 4 6]\n",
      " [9 8 7]]\n"
     ]
    }
   ],
   "source": [
    "a = np.array([[1, 3, 5], [2, 4, 6], [9, 8, 7]])\n",
    "print \"The A matrix:\\n\", a"
   ]
  },
  {
   "cell_type": "code",
   "execution_count": 7,
   "metadata": {},
   "outputs": [
    {
     "name": "stdout",
     "output_type": "stream",
     "text": [
      "The Identity matrix:\n",
      "[[1. 0. 0. 0. 0.]\n",
      " [0. 1. 0. 0. 0.]\n",
      " [0. 0. 1. 0. 0.]\n",
      " [0. 0. 0. 1. 0.]\n",
      " [0. 0. 0. 0. 1.]]\n"
     ]
    }
   ],
   "source": [
    "a = np.eye(5)\n",
    "print \"The Identity matrix:\\n\", a"
   ]
  },
  {
   "cell_type": "code",
   "execution_count": 11,
   "metadata": {},
   "outputs": [
    {
     "name": "stdout",
     "output_type": "stream",
     "text": [
      "The matrix of ones:\n",
      "[[1. 1. 1. 1. 1. 1. 1.]\n",
      " [1. 1. 1. 1. 1. 1. 1.]\n",
      " [1. 1. 1. 1. 1. 1. 1.]\n",
      " [1. 1. 1. 1. 1. 1. 1.]\n",
      " [1. 1. 1. 1. 1. 1. 1.]]\n"
     ]
    }
   ],
   "source": [
    "a = np.ones((5, 7))\n",
    "print \"The matrix of ones:\\n\", a"
   ]
  },
  {
   "cell_type": "code",
   "execution_count": 4,
   "metadata": {},
   "outputs": [
    {
     "name": "stdout",
     "output_type": "stream",
     "text": [
      "The matrix of zeros:\n",
      "[[0. 0. 0. 0. 0.]\n",
      " [0. 0. 0. 0. 0.]\n",
      " [0. 0. 0. 0. 0.]]\n"
     ]
    }
   ],
   "source": [
    "a = np.zeros((3, 5))\n",
    "print \"The matrix of zeros:\\n\", a"
   ]
  },
  {
   "cell_type": "code",
   "execution_count": 8,
   "metadata": {},
   "outputs": [
    {
     "name": "stdout",
     "output_type": "stream",
     "text": [
      "The row vector:\n",
      "[ 0  2  4  6  8 10 12 14 16 18 20 22]\n"
     ]
    }
   ],
   "source": [
    "v = np.arange(0, 24, 2)\n",
    "print \"The row vector:\\n\", v"
   ]
  },
  {
   "cell_type": "code",
   "execution_count": 12,
   "metadata": {},
   "outputs": [
    {
     "name": "stdout",
     "output_type": "stream",
     "text": [
      "The matrix from the reshaped row vector 'v':\n",
      "[[ 0  2  4  6]\n",
      " [ 8 10 12 14]\n",
      " [16 18 20 22]]\n"
     ]
    }
   ],
   "source": [
    "d = v.reshape(3, 4)\n",
    "print \"The matrix from the reshaped row vector 'v':\\n\", d"
   ]
  },
  {
   "cell_type": "code",
   "execution_count": 15,
   "metadata": {},
   "outputs": [
    {
     "name": "stdout",
     "output_type": "stream",
     "text": [
      "The third element of the second row of matrix 'd': 12\n"
     ]
    }
   ],
   "source": [
    "print \"The third element of the second row of matrix 'd':\", d[1, 2]"
   ]
  },
  {
   "cell_type": "code",
   "execution_count": 17,
   "metadata": {},
   "outputs": [
    {
     "name": "stdout",
     "output_type": "stream",
     "text": [
      "The third row of matrix 'd': [16 18 20 22]\n"
     ]
    }
   ],
   "source": [
    "print \"The third row of matrix 'd':\", d[2, :]"
   ]
  },
  {
   "cell_type": "code",
   "execution_count": 18,
   "metadata": {},
   "outputs": [
    {
     "name": "stdout",
     "output_type": "stream",
     "text": [
      "The fourth column of matrix 'd': [ 6 14 22]\n"
     ]
    }
   ],
   "source": [
    "print \"The fourth column of matrix 'd':\", d[:, 3]"
   ]
  },
  {
   "cell_type": "code",
   "execution_count": 20,
   "metadata": {},
   "outputs": [
    {
     "name": "stdout",
     "output_type": "stream",
     "text": [
      "The elements (1, 2) and (3, 3): [ 2 20]\n"
     ]
    }
   ],
   "source": [
    "print \"The elements (1, 2) and (3, 3):\", d[[0, 2], [1, 2]]"
   ]
  },
  {
   "cell_type": "code",
   "execution_count": 25,
   "metadata": {},
   "outputs": [
    {
     "name": "stdout",
     "output_type": "stream",
     "text": [
      " The a vector:\n",
      "[1 2 3]\n",
      "Its' shape: (3L,)\n",
      "Two-dimensional array:\n",
      "[[1]\n",
      " [2]\n",
      " [3]]\n",
      "Its' shape: (3L, 1L)\n"
     ]
    }
   ],
   "source": [
    "a = np.array([1, 2, 3])\n",
    "b = np.array([[1], [2], [3]])\n",
    "print \"The a vector:\\n\", a\n",
    "print \"Its' shape:\", a.shape\n",
    "print \"Two-dimensional array:\\n\", b\n",
    "print \"Its' shape:\", b.shape"
   ]
  },
  {
   "cell_type": "code",
   "execution_count": 31,
   "metadata": {},
   "outputs": [
    {
     "name": "stdout",
     "output_type": "stream",
     "text": [
      "Transposition doesn't change a vector a! [1 2 3]\n"
     ]
    }
   ],
   "source": [
    "print \"Transposition doesn't change a vector a!\", a.T"
   ]
  },
  {
   "cell_type": "code",
   "execution_count": 30,
   "metadata": {},
   "outputs": [
    {
     "name": "stdout",
     "output_type": "stream",
     "text": [
      "But changes the array b... [[1 2 3]]\n"
     ]
    }
   ],
   "source": [
    "print \"But changes the array b...\", b.T"
   ]
  },
  {
   "cell_type": "code",
   "execution_count": 37,
   "metadata": {},
   "outputs": [
    {
     "name": "stdout",
     "output_type": "stream",
     "text": [
      "The a matrix:\n",
      "[[1 2 3]\n",
      " [2 4 5]]\n",
      "The b matrix:\n",
      "[[0 1]\n",
      " [5 0]\n",
      " [4 0]]\n",
      "The result of multiplication of a and b:\n",
      "[[22  1]\n",
      " [40  2]]\n"
     ]
    }
   ],
   "source": [
    "a = np.array([[1, 2, 3], [2, 4, 5]])\n",
    "b = np.array([[0, 1], [5, 0], [4, 0]])\n",
    "c = np.dot(a, b)\n",
    "print \"The a matrix:\\n\", a\n",
    "print \"The b matrix:\\n\", b\n",
    "print \"The result of multiplication of a and b:\\n\", c"
   ]
  },
  {
   "cell_type": "code",
   "execution_count": 38,
   "metadata": {},
   "outputs": [
    {
     "name": "stdout",
     "output_type": "stream",
     "text": [
      "[24 44]\n"
     ]
    }
   ],
   "source": [
    "v = np.array([1 ,2])\n",
    "d = np.dot(c, v)\n",
    "print d"
   ]
  },
  {
   "cell_type": "code",
   "execution_count": 41,
   "metadata": {},
   "outputs": [
    {
     "name": "stdout",
     "output_type": "stream",
     "text": [
      "[[1 2]\n",
      " [3 4]]\n",
      "Transposition with a function:\n",
      "[[1 3]\n",
      " [2 4]]\n",
      "Transposition with a method:\n",
      "[[1 3]\n",
      " [2 4]]\n"
     ]
    }
   ],
   "source": [
    "a = np.array([[1, 2], [3, 4]])\n",
    "b = np.transpose(a)\n",
    "c = a.T\n",
    "print a\n",
    "print \"Transposition with a function:\\n\", b\n",
    "print \"Transposition with a method:\\n\", c"
   ]
  },
  {
   "cell_type": "code",
   "execution_count": 52,
   "metadata": {},
   "outputs": [],
   "source": [
    "a = np.array([[1, 3, 5], [4, 9, 0], [2, 4, 3]], dtype=float)\n",
    "det = np.linalg.det(a)"
   ]
  },
  {
   "cell_type": "code",
   "execution_count": 46,
   "metadata": {},
   "outputs": [
    {
     "name": "stdout",
     "output_type": "stream",
     "text": [
      "The determinant of matrix\n",
      "[[1. 3. 5.]\n",
      " [4. 9. 0.]\n",
      " [2. 4. 3.]]\n",
      "equals: -18.999999999999996\n"
     ]
    }
   ],
   "source": [
    "print \"The determinant of matrix\\n\", a\n",
    "print \"equals:\", det"
   ]
  },
  {
   "cell_type": "code",
   "execution_count": 54,
   "metadata": {},
   "outputs": [],
   "source": [
    "a = np.array([[1, 2, 3], [1, 1, 1], [2, 2, 2]])\n",
    "r = np.linalg.matrix_rank(a)"
   ]
  },
  {
   "cell_type": "code",
   "execution_count": 55,
   "metadata": {},
   "outputs": [
    {
     "name": "stdout",
     "output_type": "stream",
     "text": [
      "The a matrix rank\n",
      "[[1 2 3]\n",
      " [1 1 1]\n",
      " [2 2 2]]\n",
      "equals: 2\n"
     ]
    }
   ],
   "source": [
    "print \"The a matrix rank\\n\", a\n",
    "print \"equals:\", r"
   ]
  },
  {
   "cell_type": "code",
   "execution_count": 56,
   "metadata": {},
   "outputs": [],
   "source": [
    "a = np.array([[3, 1], [1, 2]])\n",
    "b = np.array([9, 8])\n",
    "x = np.linalg.solve(a, b)"
   ]
  },
  {
   "cell_type": "code",
   "execution_count": 57,
   "metadata": {},
   "outputs": [
    {
     "name": "stdout",
     "output_type": "stream",
     "text": [
      "Matrix a:\n",
      "[[3 1]\n",
      " [1 2]]\n",
      "Vector b:\n",
      "[9 8]\n",
      "The system solution:\n",
      "[2. 3.]\n"
     ]
    }
   ],
   "source": [
    "print \"Matrix a:\\n\", a\n",
    "print \"Vector b:\\n\", b\n",
    "print \"The system solution:\\n\", x"
   ]
  },
  {
   "cell_type": "code",
   "execution_count": 58,
   "metadata": {},
   "outputs": [
    {
     "name": "stdout",
     "output_type": "stream",
     "text": [
      "Check: [9. 8.]\n"
     ]
    }
   ],
   "source": [
    "print \"Check:\", np.dot(a, x)"
   ]
  },
  {
   "cell_type": "code",
   "execution_count": 71,
   "metadata": {},
   "outputs": [],
   "source": [
    "a = np.array([[1, 2, 1], [1, 1, 4], [2, 3, 6]], dtype=float)\n",
    "b = np.linalg.inv(a)\n",
    "c = np.dot(a, b)"
   ]
  },
  {
   "cell_type": "code",
   "execution_count": 73,
   "metadata": {},
   "outputs": [
    {
     "name": "stdout",
     "output_type": "stream",
     "text": [
      "Matrix a:\n",
      "[[1. 2. 1.]\n",
      " [1. 1. 4.]\n",
      " [2. 3. 6.]]\n",
      "Inverse matrix:\n",
      "[[ 6.  9. -7.]\n",
      " [-2. -4.  3.]\n",
      " [-1. -1.  1.]]\n",
      "The multiplication of a matrix and its inverse matrix must give the identity matrix:\n",
      "[[1. 0. 0.]\n",
      " [0. 1. 0.]\n",
      " [0. 0. 1.]]\n"
     ]
    }
   ],
   "source": [
    "print \"Matrix a:\\n\", a\n",
    "print \"Inverse matrix:\\n\", b\n",
    "print \"The multiplication of a matrix and its inverse matrix must give the identity matrix:\\n\", c"
   ]
  },
  {
   "cell_type": "code",
   "execution_count": 74,
   "metadata": {},
   "outputs": [],
   "source": [
    "a = np.array([[-1, -6], [2, 6]])\n",
    "w, v = np.linalg.eig(a)"
   ]
  },
  {
   "cell_type": "code",
   "execution_count": 75,
   "metadata": {},
   "outputs": [
    {
     "name": "stdout",
     "output_type": "stream",
     "text": [
      "The matrix a:\n",
      "[[-1 -6]\n",
      " [ 2  6]]\n",
      "Eigen values:\n",
      "[2. 3.]\n",
      "Eigen vectors:\n",
      "[[-0.89442719  0.83205029]\n",
      " [ 0.4472136  -0.5547002 ]]\n"
     ]
    }
   ],
   "source": [
    "print \"The matrix a:\\n\", a\n",
    "print \"Eigen values:\\n\", w\n",
    "print \"Eigen vectors:\\n\", v"
   ]
  }
 ],
 "metadata": {
  "kernelspec": {
   "display_name": "Python 2",
   "language": "python",
   "name": "python2"
  },
  "language_info": {
   "codemirror_mode": {
    "name": "ipython",
    "version": 2
   },
   "file_extension": ".py",
   "mimetype": "text/x-python",
   "name": "python",
   "nbconvert_exporter": "python",
   "pygments_lexer": "ipython2",
   "version": "2.7.15"
  }
 },
 "nbformat": 4,
 "nbformat_minor": 2
}
