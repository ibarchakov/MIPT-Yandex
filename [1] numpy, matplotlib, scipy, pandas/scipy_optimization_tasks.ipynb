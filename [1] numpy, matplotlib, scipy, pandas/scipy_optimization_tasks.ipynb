{
 "cells": [
  {
   "cell_type": "code",
   "execution_count": 1,
   "metadata": {},
   "outputs": [],
   "source": [
    "from scipy import optimize"
   ]
  },
  {
   "cell_type": "code",
   "execution_count": 2,
   "metadata": {
    "scrolled": true
   },
   "outputs": [
    {
     "name": "stdout",
     "output_type": "stream",
     "text": [
      "0.0\n"
     ]
    }
   ],
   "source": [
    "def f(x): # The Rosenbrok Function\n",
    "    return .5 * (1 - x[0]) ** 2 + (x[1] - x[0] ** 2) ** 2\n",
    "\n",
    "print f([1, 1])"
   ]
  },
  {
   "cell_type": "code",
   "execution_count": 3,
   "metadata": {},
   "outputs": [
    {
     "name": "stdout",
     "output_type": "stream",
     "text": [
      "[0.99999324 1.00001283]\n"
     ]
    }
   ],
   "source": [
    "result = optimize.brute(f, ((-5, 5), (-5, 5)))\n",
    "print result"
   ]
  },
  {
   "cell_type": "code",
   "execution_count": 4,
   "metadata": {},
   "outputs": [
    {
     "name": "stdout",
     "output_type": "stream",
     "text": [
      "     fun: 7.395570986446986e-32\n",
      " message: 'Optimization terminated successfully.'\n",
      "    nfev: 3573L\n",
      "     nit: 118\n",
      " success: True\n",
      "       x: array([1., 1.])\n"
     ]
    }
   ],
   "source": [
    "print optimize.differential_evolution(f, ((-5, 5), (-5, 5)))"
   ]
  },
  {
   "cell_type": "code",
   "execution_count": 6,
   "metadata": {},
   "outputs": [
    {
     "name": "stdout",
     "output_type": "stream",
     "text": [
      "      fun: 1.7837922314048395e-11\n",
      " hess_inv: array([[0.95489065, 1.90006641],\n",
      "       [1.90006641, 4.27872401]])\n",
      "      jac: array([9.88094926e-07, 2.41748031e-06])\n",
      "  message: 'Optimization terminated successfully.'\n",
      "     nfev: 36\n",
      "      nit: 8\n",
      "     njev: 9\n",
      "   status: 0\n",
      "  success: True\n",
      "        x: array([1.00000573, 1.00001265])\n"
     ]
    }
   ],
   "source": [
    "print optimize.minimize(f, [2, 2])"
   ]
  },
  {
   "cell_type": "code",
   "execution_count": 7,
   "metadata": {},
   "outputs": [
    {
     "name": "stdout",
     "output_type": "stream",
     "text": [
      "      fun: 1.7837922314048395e-11\n",
      " hess_inv: array([[0.95489065, 1.90006641],\n",
      "       [1.90006641, 4.27872401]])\n",
      "      jac: array([9.88094926e-07, 2.41748031e-06])\n",
      "  message: 'Optimization terminated successfully.'\n",
      "     nfev: 36\n",
      "      nit: 8\n",
      "     njev: 9\n",
      "   status: 0\n",
      "  success: True\n",
      "        x: array([1.00000573, 1.00001265])\n"
     ]
    }
   ],
   "source": [
    "print optimize.minimize(f, [2, 2], method=\"BFGS\")"
   ]
  },
  {
   "cell_type": "code",
   "execution_count": 8,
   "metadata": {},
   "outputs": [
    {
     "name": "stdout",
     "output_type": "stream",
     "text": [
      " final_simplex: (array([[0.99998568, 0.99996682],\n",
      "       [1.00002149, 1.00004744],\n",
      "       [1.0000088 , 1.00003552]]), array([1.23119954e-10, 2.50768082e-10, 3.59639951e-10]))\n",
      "           fun: 1.2311995365407462e-10\n",
      "       message: 'Optimization terminated successfully.'\n",
      "          nfev: 91\n",
      "           nit: 46\n",
      "        status: 0\n",
      "       success: True\n",
      "             x: array([0.99998568, 0.99996682])\n"
     ]
    }
   ],
   "source": [
    "print optimize.minimize(f, [2, 2], method=\"Nelder-Mead\")"
   ]
  }
 ],
 "metadata": {
  "kernelspec": {
   "display_name": "Python 2",
   "language": "python",
   "name": "python2"
  },
  "language_info": {
   "codemirror_mode": {
    "name": "ipython",
    "version": 2
   },
   "file_extension": ".py",
   "mimetype": "text/x-python",
   "name": "python",
   "nbconvert_exporter": "python",
   "pygments_lexer": "ipython2",
   "version": "2.7.15"
  }
 },
 "nbformat": 4,
 "nbformat_minor": 2
}
